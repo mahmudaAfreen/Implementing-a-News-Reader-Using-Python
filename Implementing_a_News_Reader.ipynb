{
  "nbformat": 4,
  "nbformat_minor": 0,
  "metadata": {
    "colab": {
      "provenance": []
    },
    "kernelspec": {
      "name": "python3",
      "display_name": "Python 3"
    },
    "language_info": {
      "name": "python"
    }
  },
  "cells": [
    {
      "cell_type": "markdown",
      "source": [
        "## **Import Libraries**"
      ],
      "metadata": {
        "id": "WXHkXMn-WXnF"
      }
    },
    {
      "cell_type": "code",
      "source": [
        "import requests\n",
        "from bs4 import BeautifulSoup\n",
        "import re\n",
        "from sklearn.feature_extraction.text import CountVectorizer\n",
        "from sklearn.decomposition import LatentDirichletAllocation\n",
        "from nltk.sentiment import SentimentIntensityAnalyzer\n",
        "from nltk.corpus import stopwords\n",
        "import pandas as pd\n",
        "import numpy as np\n",
        "from nltk.sentiment.vader import SentimentIntensityAnalyzer as VaderSentimentIntensityAnalyzer  # Import VADER sentiment analyzer\n",
        "import matplotlib.pyplot as plt"
      ],
      "metadata": {
        "id": "0zJ0IFdXWZiO"
      },
      "execution_count": 1,
      "outputs": []
    },
    {
      "cell_type": "code",
      "source": [
        "import nltk\n",
        "\n",
        "nltk.download('vader_lexicon')\n"
      ],
      "metadata": {
        "colab": {
          "base_uri": "https://localhost:8080/"
        },
        "id": "T7w31jBMKjc2",
        "outputId": "1bb98563-1a53-4084-9664-28a3eea0d3a8"
      },
      "execution_count": 5,
      "outputs": [
        {
          "output_type": "stream",
          "name": "stderr",
          "text": [
            "[nltk_data] Downloading package vader_lexicon to /root/nltk_data...\n"
          ]
        },
        {
          "output_type": "execute_result",
          "data": {
            "text/plain": [
              "True"
            ]
          },
          "metadata": {},
          "execution_count": 5
        }
      ]
    },
    {
      "cell_type": "markdown",
      "source": [
        "## **Web Scraping and Text Preprocessing**"
      ],
      "metadata": {
        "id": "udXhxddLWaaG"
      }
    },
    {
      "cell_type": "code",
      "source": [
        "# Define the URL of the news website to scrape\n",
        "url = \"https://www.bbc.com/news/world\"\n",
        "\n",
        "# Send an HTTP GET request to the specified URL\n",
        "response = requests.get(url)\n",
        "\n",
        "# Create a BeautifulSoup object to parse the HTML content\n",
        "soup = BeautifulSoup(response.text, 'html.parser')\n",
        "\n",
        "# Find all the title elements on the webpage\n",
        "titles = soup.find_all('h3')\n",
        "\n",
        "# Extract the text from the title elements and remove duplicates\n",
        "title_texts = list(set(title.get_text() for title in titles))\n",
        "\n",
        "# Data Preprocessing Function\n",
        "def preprocess_text(text):\n",
        "    # Remove special characters and extra whitespace, convert to lowercase\n",
        "    processed_text = re.sub(r'[^a-zA-Z\\s]', '', text).strip().lower()\n",
        "    # Remove common English stopwords\n",
        "    stop_words = set(stopwords.words('english'))\n",
        "    processed_text = ' '.join(word for word in processed_text.split() if word not in stop_words)\n",
        "    return processed_text\n",
        "\n",
        "# Apply preprocessing to the titles, excluding the last three irrelevant ones\n",
        "preprocessed_titles = [preprocess_text(title) for title in title_texts[:-3]]\n",
        "\n",
        "# Topic Modeling Function\n",
        "def perform_topic_modeling(texts, num_topics=5):\n",
        "    vectorizer = CountVectorizer()\n",
        "    text_matrix = vectorizer.fit_transform(texts)\n",
        "    # Apply Latent Dirichlet Allocation, a topic modeling algorithm, to the text matrix\n",
        "    lda_model = LatentDirichletAllocation(n_components=num_topics)\n",
        "    lda_output = lda_model.fit_transform(text_matrix)\n",
        "    # Retrieve the feature names from the vectorizer and generate a list of topic words for each topic\n",
        "    words = vectorizer.get_feature_names_out()\n",
        "    topic_word_list = []\n",
        "    for topic in lda_model.components_:\n",
        "        topic_words = [words[i] for i in topic.argsort()[-20:]]\n",
        "        topic_word_list.append(topic_words)\n",
        "    return vectorizer, lda_model, topic_word_list, lda_output\n",
        "\n",
        "# Specify the number of topics for the LDA model\n",
        "num_topics = 3\n",
        "\n",
        "# Perform topic modeling on the preprocessed titles\n",
        "vectorizer, lda_model, topic_word_list, lda_output = perform_topic_modeling(preprocessed_titles, num_topics)\n",
        "\n",
        "# Sentiment Classification\n",
        "def classify_sentiment(text):\n",
        "    # Use SentimentIntensityAnalyzer from NLTK to analyze the sentiment of the text\n",
        "    analyzer = SentimentIntensityAnalyzer()\n",
        "    sentiment_scores = analyzer.polarity_scores(text)\n",
        "    # Classify the sentiment as Positive if the compound score is >= 0, otherwise as Negative\n",
        "    sentiment_label = 'Positive' if sentiment_scores['compound'] >= 0 else 'Negative'\n",
        "    return sentiment_label\n",
        "\n",
        "# Political Sentiment Classification using VADER\n",
        "def classify_political_sentiment(text):\n",
        "    analyzer = VaderSentimentIntensityAnalyzer()\n",
        "    sentiment_scores = analyzer.polarity_scores(text)\n",
        "    # Classify political sentiment as \"Left\" if compound score is negative, \"Right\" if positive, \"Neutral\" if zero\n",
        "    if sentiment_scores['compound'] < 0:\n",
        "        return 'Left'\n",
        "    elif sentiment_scores['compound'] > 0:\n",
        "        return 'Right'\n",
        "    else:\n",
        "        return 'Neutral'\n",
        "\n",
        "# Initialize lists to store the results\n",
        "title_list = []\n",
        "preprocessed_text_list = []\n",
        "topic_list = []\n",
        "sentiment_list = []\n",
        "topic_percent_list = []\n",
        "political_sentiment_list = []\n",
        "\n",
        "# Process the data and append the results to the lists\n",
        "for i, title in enumerate(title_texts[:-3]):  # Exclude the last three titles\n",
        "    if title not in [\"Get in touch\", \"Mobile app\", \"News daily newsletter\"]:\n",
        "        title_list.append(title)\n",
        "        preprocessed_text = preprocess_text(title)\n",
        "        preprocessed_text_list.append(preprocessed_text)\n",
        "        # Use topic model to assign a topic to the title and calculate the highest topic score\n",
        "        topic = lda_model.transform(vectorizer.transform([preprocessed_text]))\n",
        "        highest_topic = np.argmax(topic) + 1\n",
        "        highest_score = np.max(topic)\n",
        "        topic_str = f\"{highest_score:.3f}% Topic:{highest_topic}\"\n",
        "        # Append the topic information to the topic_list\n",
        "        topic_list.append(topic_str)\n",
        "        sentiment = classify_sentiment(title)\n",
        "        sentiment_list.append(sentiment)\n",
        "        # Append the topic percentages to the topic_percent_list\n",
        "        topic_percent_list.append([round(p, 3) for p in topic[0]])\n",
        "        # Classify political sentiment\n",
        "        political_sentiment = classify_political_sentiment(title)\n",
        "        political_sentiment_list.append(political_sentiment)\n",
        "\n",
        "# Create a dictionary to store the data\n",
        "data = {\n",
        "    'Title': title_list,\n",
        "    'Preprocessed Text': preprocessed_text_list,\n",
        "    'Top Topic': topic_list,\n",
        "    'Sentiment Label': sentiment_list,\n",
        "    'Sentiment Scores': topic_percent_list,\n",
        "    'Political Sentiment': political_sentiment_list\n",
        "}\n",
        "\n",
        "# Create a DataFrame from the dictionary\n",
        "df = pd.DataFrame(data)\n",
        "\n",
        "# Display the DataFrame\n",
        "pd.set_option('display.max_colwidth', None)\n",
        "print(df.to_string(index=False))\n"
      ],
      "metadata": {
        "colab": {
          "base_uri": "https://localhost:8080/"
        },
        "id": "MQH7Pe5UpFK9",
        "outputId": "7a995831-2d9d-44cb-8250-2e9cfb82440a"
      },
      "execution_count": 6,
      "outputs": [
        {
          "output_type": "stream",
          "name": "stdout",
          "text": [
            "                                                    Title                                       Preprocessed Text      Top Topic Sentiment Label      Sentiment Scores Political Sentiment\n",
            "         French supermarket puts up 'shrinkflation' signs             french supermarket puts shrinkflation signs 0.888% Topic:3        Positive [0.056, 0.056, 0.888]             Neutral\n",
            "                    He ended the Bongo dynasty. Now what?                                     ended bongo dynasty 0.832% Topic:2        Positive [0.084, 0.832, 0.084]             Neutral\n",
            "         Kim Jong Un extends Russia visit by several days           kim jong un extends russia visit several days 0.925% Topic:2        Positive [0.037, 0.925, 0.037]               Right\n",
            "        Watch: Rescuers save missing dog trapped in river           watch rescuers save missing dog trapped river 0.916% Topic:2        Negative [0.042, 0.916, 0.042]                Left\n",
            "  Taliban welcomes first new Chinese envoy since takeover taliban welcomes first new chinese envoy since takeover 0.925% Topic:1        Positive [0.925, 0.037, 0.038]               Right\n",
            " Russian air defence system destroyed in Crimea - Ukraine     russian air defence system destroyed crimea ukraine 0.916% Topic:3        Negative [0.042, 0.042, 0.916]                Left\n",
            "               What we learned from Nasa's new UFO report                            learned nasas new ufo report 0.886% Topic:3        Positive [0.058, 0.056, 0.886]             Neutral\n",
            "    Drone footage captures submerged Libya neighbourhoods   drone footage captures submerged libya neighbourhoods 0.902% Topic:3        Positive [0.049, 0.049, 0.902]             Neutral\n",
            "      Captured US jail fugitive planned to flee to Canada           captured us jail fugitive planned flee canada 0.915% Topic:3        Positive [0.042, 0.043, 0.915]             Neutral\n",
            "          Man arrested after touching Spanish TV reporter               man arrested touching spanish tv reporter 0.904% Topic:1        Negative [0.904, 0.048, 0.048]                Left\n",
            "     Car firms face strike as contract talks hit deadline       car firms face strike contract talks hit deadline 0.925% Topic:3        Negative [0.037, 0.038, 0.925]                Left\n",
            "                          How sponges help Zanzibar women                             sponges help zanzibar women 0.866% Topic:3        Positive [0.067, 0.067, 0.866]               Right\n",
            "Ros Atkins on... Libya’s political turmoil and the floods              ros atkins libyas political turmoil floods 0.904% Topic:1        Negative [0.904, 0.048, 0.048]                Left\n",
            "         Aftershocks send rescue teams running in Morocco           aftershocks send rescue teams running morocco 0.904% Topic:2        Positive [0.048, 0.904, 0.048]               Right\n",
            "                     The Mexicans keeping the 1930s alive                                  mexicans keeping alive 0.832% Topic:1        Positive [0.832, 0.084, 0.084]               Right\n",
            "                   Are businesses ready for a Covid wave?                             businesses ready covid wave 0.866% Topic:3        Positive [0.067, 0.067, 0.866]               Right\n",
            "            What Nasa said about those 'aliens' in Mexico                                 nasa said aliens mexico 0.866% Topic:2        Positive [0.067, 0.866, 0.067]             Neutral\n",
            " 'An unimaginable scene': Survivors describe Libya floods      unimaginable scene survivors describe libya floods 0.895% Topic:2        Positive [0.055, 0.895, 0.049]             Neutral\n",
            " The US wants to talk to North Korea but doesn't know how                   us wants talk north korea doesnt know 0.916% Topic:3        Positive [0.042, 0.042, 0.916]             Neutral\n",
            "         China poses threat to UK way of life, says Sunak               china poses threat uk way life says sunak 0.925% Topic:2        Negative [0.037, 0.925, 0.037]                Left\n",
            "        In pictures: Desperate search for flood survivors               pictures desperate search flood survivors 0.886% Topic:2        Negative [0.058, 0.886, 0.056]                Left\n",
            "                       The companies staying fully remote                          companies staying fully remote 0.866% Topic:1        Positive [0.866, 0.067, 0.067]             Neutral\n",
            "                            Why men dominate Q&As so much                                   men dominate qas much 0.866% Topic:2        Negative [0.067, 0.866, 0.067]                Left\n",
            "                    US politician escorted out of musical                          us politician escorted musical 0.865% Topic:3        Positive [0.067, 0.068, 0.865]             Neutral\n",
            "          Why the Libyan port floods were so catastrophic                         libyan port floods catastrophic 0.863% Topic:1        Negative [0.863, 0.068, 0.069]                Left\n",
            "        Cruise ship stranded in Greenland pulled from mud               cruise ship stranded greenland pulled mud 0.904% Topic:2        Positive [0.048, 0.904, 0.048]             Neutral\n",
            "                   A 'beach towel revolt' sweeping Greece                      beach towel revolt sweeping greece 0.888% Topic:3        Positive [0.056, 0.056, 0.888]             Neutral\n",
            "     Libyan doctor pleads for help as bodies line streets           libyan doctor pleads help bodies line streets 0.915% Topic:3        Positive [0.043, 0.042, 0.915]               Right\n",
            "       Irish man seriously ill after eating Bordeaux fish            irish man seriously ill eating bordeaux fish 0.916% Topic:1        Negative [0.916, 0.042, 0.042]                Left\n",
            "               The struggles and scandals of Hunter Biden                         struggles scandals hunter biden 0.864% Topic:2        Negative [0.069, 0.864, 0.067]                Left\n",
            "                Tourist climbs Brussels statue, breaks it                   tourist climbs brussels statue breaks 0.888% Topic:2        Positive [0.056, 0.888, 0.056]             Neutral\n",
            "            Libya flood: Where every house is in mourning                        libya flood every house mourning 0.884% Topic:1        Negative [0.884, 0.058, 0.057]                Left\n",
            "                  Stunning music from an infamous US jail                         stunning music infamous us jail 0.871% Topic:2        Positive [0.056, 0.871, 0.073]               Right\n",
            "      Arm: UK chip designer shares surge in market return         arm uk chip designer shares surge market return 0.925% Topic:2        Positive [0.037, 0.925, 0.037]               Right\n",
            "             Hunter Biden indicted on federal gun charges               hunter biden indicted federal gun charges 0.903% Topic:2        Negative [0.049, 0.903, 0.048]                Left\n",
            "                 Nigeria hit by near-total power blackout                    nigeria hit neartotal power blackout 0.886% Topic:2        Positive [0.056, 0.886, 0.058]             Neutral\n",
            "         Diana's sweater fetches more than $1m at auction                          dianas sweater fetches auction 0.866% Topic:1        Positive [0.866, 0.067, 0.067]             Neutral\n",
            "       Romney to retire, tells Biden and Trump to do same                         romney retire tells biden trump 0.885% Topic:1        Positive [0.885, 0.059, 0.056]             Neutral\n",
            "            Billion dollar amphetamine haul seized in UAE              billion dollar amphetamine haul seized uae 0.904% Topic:3        Positive [0.048, 0.048, 0.904]             Neutral\n",
            "  'My family paid $40,000 to bring me back from the dead'                             family paid bring back dead 0.888% Topic:3        Negative [0.056, 0.056, 0.888]                Left\n"
          ]
        }
      ]
    }
  ]
}